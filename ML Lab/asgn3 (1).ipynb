{
 "cells": [
  {
   "cell_type": "code",
   "execution_count": 74,
   "id": "c90155e6",
   "metadata": {},
   "outputs": [],
   "source": [
    "import numpy as np\n",
    "import matplotlib.pyplot as plt"
   ]
  },
  {
   "cell_type": "code",
   "execution_count": 75,
   "id": "6b7e5289",
   "metadata": {},
   "outputs": [],
   "source": [
    "def f(x):\n",
    "    return (x+3)**2\n",
    "\n",
    "def df(x):\n",
    "    return 2*x + 6"
   ]
  },
  {
   "cell_type": "code",
   "execution_count": 76,
   "id": "d0922b1c",
   "metadata": {},
   "outputs": [],
   "source": [
    "def gradient_descent(initial_x, learning_rate, num_iterations):\n",
    "    x = initial_x\n",
    "    x_history = [x]\n",
    "    for i in range(num_iterations):\n",
    "        gradient = df(x)\n",
    "        x = x - learning_rate * gradient\n",
    "        x_history.append(x)\n",
    "    return x, x_history"
   ]
  },
  {
   "cell_type": "code",
   "execution_count": 77,
   "id": "f4c2e8b2",
   "metadata": {},
   "outputs": [
    {
     "name": "stdout",
     "output_type": "stream",
     "text": [
      "Local minimum: -3.00\n",
      "Iteration number 0: 2\n",
      "Iteration number 1: 1.0\n",
      "Iteration number 2: 0.19999999999999996\n",
      "Iteration number 3: -0.44000000000000017\n",
      "Iteration number 4: -0.9520000000000001\n",
      "Iteration number 5: -1.3616000000000001\n",
      "Iteration number 6: -1.6892800000000001\n",
      "Iteration number 7: -1.951424\n",
      "Iteration number 8: -2.1611392\n",
      "Iteration number 9: -2.32891136\n",
      "Iteration number 10: -2.463129088\n",
      "Iteration number 11: -2.5705032704\n",
      "Iteration number 12: -2.6564026163200003\n",
      "Iteration number 13: -2.725122093056\n",
      "Iteration number 14: -2.7800976744448\n",
      "Iteration number 15: -2.82407813955584\n",
      "Iteration number 16: -2.8592625116446717\n",
      "Iteration number 17: -2.8874100093157375\n",
      "Iteration number 18: -2.90992800745259\n",
      "Iteration number 19: -2.927942405962072\n",
      "Iteration number 20: -2.9423539247696575\n",
      "Iteration number 21: -2.953883139815726\n",
      "Iteration number 22: -2.9631065118525806\n",
      "Iteration number 23: -2.9704852094820646\n",
      "Iteration number 24: -2.9763881675856516\n",
      "Iteration number 25: -2.981110534068521\n",
      "Iteration number 26: -2.984888427254817\n",
      "Iteration number 27: -2.9879107418038537\n",
      "Iteration number 28: -2.990328593443083\n",
      "Iteration number 29: -2.9922628747544664\n",
      "Iteration number 30: -2.993810299803573\n",
      "Iteration number 31: -2.995048239842858\n",
      "Iteration number 32: -2.9960385918742864\n",
      "Iteration number 33: -2.9968308734994293\n",
      "Iteration number 34: -2.9974646987995435\n",
      "Iteration number 35: -2.997971759039635\n",
      "Iteration number 36: -2.998377407231708\n",
      "Iteration number 37: -2.998701925785366\n",
      "Iteration number 38: -2.998961540628293\n",
      "Iteration number 39: -2.9991692325026342\n",
      "Iteration number 40: -2.9993353860021075\n",
      "Iteration number 41: -2.999468308801686\n",
      "Iteration number 42: -2.9995746470413485\n",
      "Iteration number 43: -2.9996597176330786\n",
      "Iteration number 44: -2.999727774106463\n",
      "Iteration number 45: -2.99978221928517\n",
      "Iteration number 46: -2.9998257754281363\n",
      "Iteration number 47: -2.999860620342509\n",
      "Iteration number 48: -2.999888496274007\n",
      "Iteration number 49: -2.9999107970192056\n",
      "Iteration number 50: -2.9999286376153647\n"
     ]
    }
   ],
   "source": [
    "initial_x = 2\n",
    "learning_rate = 0.1\n",
    "num_iterations = 50\n",
    "\n",
    "x, x_history = gradient_descent(initial_x, learning_rate, num_iterations)\n",
    "print(\"Local minimum: {:.2f}\".format(x))\n",
    "for i in range(len(x_history)):\n",
    "    print(f\"Iteration number {i}: {x_history[i]}\")"
   ]
  },
  {
   "cell_type": "code",
   "execution_count": 103,
   "id": "b276e245",
   "metadata": {},
   "outputs": [
    {
     "data": {
      "image/png": "[encoded data removed]",
      "text/plain": [
       "<Figure size 432x288 with 1 Axes>"
      ]
     },
     "metadata": {
      "needs_background": "light"
     },
     "output_type": "display_data"
    }
   ],
   "source": [
    "# Create a range of x values to plot\n",
    "x_vals = np.linspace(-11, 5, 50)\n",
    "\n",
    "# Plot the function f(x)\n",
    "plt.plot(x_vals, f(x_vals))\n",
    "\n",
    "# Plot the values of x at each iteration\n",
    "plt.plot(x_history, f(np.array(x_history)), 'rx')\n",
    "\n",
    "# Label the axes and add a title\n",
    "plt.xlabel('x')\n",
    "plt.ylabel('f(x)')\n",
    "plt.title('Gradient Descent (BC218 Akshay Dongare)')\n",
    "\n",
    "# Show the plot\n",
    "plt.show()"
   ]
  }
 ],
 "metadata": {
  "kernelspec": {
   "display_name": "tensorflow",
   "language": "python",
   "name": "tensorflow"
  },
  "language_info": {
   "codemirror_mode": {
    "name": "ipython",
    "version": 3
   },
   "file_extension": ".py",
   "mimetype": "text/x-python",
   "name": "python",
   "nbconvert_exporter": "python",
   "pygments_lexer": "ipython3",
   "version": "3.9.5"
  }
 },
 "nbformat": 4,
 "nbformat_minor": 5
}
